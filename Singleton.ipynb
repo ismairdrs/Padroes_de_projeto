{
  "nbformat": 4,
  "nbformat_minor": 0,
  "metadata": {
    "colab": {
      "name": "Singleton.ipynb",
      "provenance": [],
      "collapsed_sections": []
    },
    "kernelspec": {
      "name": "python3",
      "display_name": "Python 3"
    }
  },
  "cells": [
    {
      "cell_type": "code",
      "metadata": {
        "id": "ovOEJIQsgljo"
      },
      "source": [
        "class Singleton:\n",
        "\n",
        "    def __new__(cls):\n",
        "        if not hasattr(cls, 'instance'):\n",
        "            cls.instance = super(Singleton, cls).__new__(cls)\n",
        "        return cls.instance\n"
      ],
      "execution_count": null,
      "outputs": []
    },
    {
      "cell_type": "code",
      "metadata": {
        "colab": {
          "base_uri": "https://localhost:8080/"
        },
        "id": "pAXi0Zd4iEnb",
        "outputId": "e5f6e501-e0b9-47da-f672-83ef1b74046f"
      },
      "source": [
        "s = Singleton() \n",
        "print(f'Object created {s}')"
      ],
      "execution_count": null,
      "outputs": [
        {
          "output_type": "stream",
          "text": [
            "Object created <__main__.Singleton object at 0x7f406b1c0dd8>\n"
          ],
          "name": "stdout"
        }
      ]
    },
    {
      "cell_type": "code",
      "metadata": {
        "colab": {
          "base_uri": "https://localhost:8080/"
        },
        "id": "ZawUapQBjtZ9",
        "outputId": "45ee9a52-fabd-40d3-c4b4-d1af640e6026"
      },
      "source": [
        "s1 = Singleton()\n",
        "print(f'Object created {s1}')"
      ],
      "execution_count": null,
      "outputs": [
        {
          "output_type": "stream",
          "text": [
            "Object created <__main__.Singleton object at 0x7f406b1c0dd8>\n"
          ],
          "name": "stdout"
        }
      ]
    }
  ]
}