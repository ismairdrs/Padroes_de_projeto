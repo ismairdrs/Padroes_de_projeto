{
  "nbformat": 4,
  "nbformat_minor": 0,
  "metadata": {
    "colab": {
      "name": "builder.ipynb",
      "provenance": [],
      "collapsed_sections": [],
      "authorship_tag": "ABX9TyMq9CXD+cTVN9KhYgs8dcJj",
      "include_colab_link": true
    },
    "kernelspec": {
      "name": "python3",
      "display_name": "Python 3"
    }
  },
  "cells": [
    {
      "cell_type": "markdown",
      "metadata": {
        "id": "view-in-github",
        "colab_type": "text"
      },
      "source": [
        "<a href=\"https://colab.research.google.com/github/ismairdrs/Padroes_de_projeto/blob/main/builder.ipynb\" target=\"_parent\"><img src=\"https://colab.research.google.com/assets/colab-badge.svg\" alt=\"Open In Colab\"/></a>"
      ]
    },
    {
      "cell_type": "code",
      "metadata": {
        "id": "66H3qPkCWPs8"
      },
      "source": [
        "from datetime import date\n",
        "\n",
        "\n",
        "class CriadorNotaFiscal:\n",
        "    def __init__(self):\n",
        "        self.__razao_social = None\n",
        "        self.__cnpj = None\n",
        "        self.__data_de_emissao = None\n",
        "        self.__detalhes = None\n",
        "        self.__itens = None\n",
        "\n",
        "    def com_razao_social(self, razao_social):\n",
        "        self.__razao_social = razao_social\n",
        "        return self\n",
        "\n",
        "    def com_cnpj(self, cnpj):\n",
        "        self.__cnpj = cnpj\n",
        "        return self\n",
        "\n",
        "    def com_data_de_emissao(self, data_de_emissao):\n",
        "        self.__data_de_emissao = data_de_emissao\n",
        "        return self\n",
        "\n",
        "    def com_itens(self, itens):\n",
        "        self.__itens = itens\n",
        "        return self\n",
        "\n",
        "    def com_detalhes(self, detalhes):\n",
        "        self.__detalhes = detalhes\n",
        "        return self\n",
        "\n",
        "    def constroi(self):\n",
        "        if self.__razao_social is None:\n",
        "            raise Exception(\"Razao social deve ser preenchida\")\n",
        "\n",
        "        if self.__cnpj is None:\n",
        "            raise Exception(\"CNPJ deve ser preenchido\")\n",
        "\n",
        "        if self.__itens is None:\n",
        "            raise Exception(\"Os itens devem ser preenchidos\")\n",
        "\n",
        "        if self.__data_de_emissao is None:\n",
        "            self.__data_de_emissao = date.today()\n",
        "\n",
        "        if self.__detalhes is None:\n",
        "            self.__detalhes = \"\"\n",
        "\n",
        "        return NotaFiscal(\n",
        "            razao_social=self.__razao_social,\n",
        "            cnpj=self.__cnpj,\n",
        "            itens=self.__itens,\n",
        "            data_de_emissao=self.__data_de_emissao,\n",
        "            detalhes=self.__detalhes,\n",
        "        )"
      ],
      "execution_count": 17,
      "outputs": []
    },
    {
      "cell_type": "code",
      "metadata": {
        "id": "ZkoJHqMRYL49"
      },
      "source": [
        "from datetime import date\n",
        "\n",
        "\n",
        "class Item:\n",
        "    def __init__(self, descricao, valor):\n",
        "        self.__descricao = descricao\n",
        "        self.__valor = valor\n",
        "\n",
        "    @property\n",
        "    def descricao(self):\n",
        "        return self.__descricao\n",
        "\n",
        "    @property\n",
        "    def valor(self):\n",
        "        return self.__valor\n",
        "\n",
        "\n",
        "class NotaFiscal:\n",
        "    def __init__(\n",
        "        self,\n",
        "        razao_social,\n",
        "        cnpj,\n",
        "        itens,\n",
        "        data_de_emissao=date.today(),\n",
        "        detalhes=\"\",\n",
        "    ):\n",
        "        self.__razao_social = razao_social\n",
        "        self.__cnpj = cnpj\n",
        "        self.__data_de_emissao = data_de_emissao\n",
        "        if len(detalhes) > 20:\n",
        "            raise Exception(\n",
        "                \"Detalhes da nota fiscal nao pode ter mais que 20 chars\"\n",
        "            )\n",
        "        self.__detalhes = detalhes\n",
        "        self.__itens = itens\n",
        "\n",
        "    @property\n",
        "    def razao_social(self):\n",
        "        return self.__razao_social\n",
        "\n",
        "    @property\n",
        "    def cnpj(self):\n",
        "        return self.__cnpj\n",
        "\n",
        "    @property\n",
        "    def data_de_emissao(self):\n",
        "        return self.__data_de_emissao\n",
        "\n",
        "    @property\n",
        "    def detalhes(self):\n",
        "        return self.__detalhes\n",
        "\n",
        "    @property\n",
        "    def itens(self):\n",
        "        return self.__itens"
      ],
      "execution_count": 18,
      "outputs": []
    },
    {
      "cell_type": "code",
      "metadata": {
        "id": "o4_9ncxYYR5p"
      },
      "source": [
        "itens = [Item(\"ITEM A\", 100), Item(\"ITEM B\", 200)]\n",
        "\n",
        "nota_fiscal = NotaFiscal(\n",
        "    razao_social=\"FHSA Limitada\",\n",
        "    cnpj=\"01928391827321\",\n",
        "    itens=itens,\n",
        "    data_de_emissao=date.today(),\n",
        "    detalhes=\"\",\n",
        ")\n",
        "\n",
        "nota_fiscal_criada_com_builder = (\n",
        "    CriadorNotaFiscal()\n",
        "    .com_razao_social(\"FHSA Limitada\")\n",
        "    .com_cnpj(\"01928391827321\")\n",
        "    .com_itens(itens)\n",
        "    .constroi()\n",
        ")"
      ],
      "execution_count": 19,
      "outputs": []
    },
    {
      "cell_type": "code",
      "metadata": {
        "id": "CBZbTJ1SYgFN"
      },
      "source": [
        "def imprime_itens(itens):\n",
        "    for item in itens:\n",
        "        print(f'descricao: {item.descricao}, valor: {item.valor}')\n",
        "\n",
        "def imprime(nota):\n",
        "    print(f'razao_social: {nota.razao_social}')\n",
        "    print(f'cnpj: {nota.cnpj}')\n",
        "    print(f'itens: {imprime_itens(itens)}')\n",
        "    print(f'data_de_emissao: {nota.data_de_emissao}')\n",
        "    print(f'detalhes: {nota.detalhes}')\n",
        " "
      ],
      "execution_count": 23,
      "outputs": []
    },
    {
      "cell_type": "code",
      "metadata": {
        "colab": {
          "base_uri": "https://localhost:8080/"
        },
        "id": "llHTi3jFaDGY",
        "outputId": "55a609cd-9af3-49e3-d75c-ddabebe80d98"
      },
      "source": [
        "imprime(nota_fiscal)"
      ],
      "execution_count": 24,
      "outputs": [
        {
          "output_type": "stream",
          "text": [
            "razao_social: FHSA Limitada\n",
            "cnpj: 01928391827321\n",
            "descricao: ITEM A, valor: 100\n",
            "descricao: ITEM B, valor: 200\n",
            "itens: None\n",
            "data_de_emissao: 2021-03-02\n",
            "detalhes: \n"
          ],
          "name": "stdout"
        }
      ]
    },
    {
      "cell_type": "code",
      "metadata": {
        "colab": {
          "base_uri": "https://localhost:8080/"
        },
        "id": "dfRor-L4ac0q",
        "outputId": "0456b57d-516f-45ba-9604-dfaf7e8840ac"
      },
      "source": [
        "imprime(nota_fiscal_criada_com_builder)"
      ],
      "execution_count": 27,
      "outputs": [
        {
          "output_type": "stream",
          "text": [
            "razao_social: FHSA Limitada\n",
            "cnpj: 01928391827321\n",
            "descricao: ITEM A, valor: 100\n",
            "descricao: ITEM B, valor: 200\n",
            "itens: None\n",
            "data_de_emissao: 2021-03-02\n",
            "detalhes: \n"
          ],
          "name": "stdout"
        }
      ]
    }
  ]
}